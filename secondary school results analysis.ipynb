{
 "cells": [
  {
   "cell_type": "markdown",
   "metadata": {},
   "source": [
    "this notebook is for secondary school results 2024 in Egypt"
   ]
  },
  {
   "cell_type": "code",
   "execution_count": 2,
   "metadata": {},
   "outputs": [
    {
     "name": "stdout",
     "output_type": "stream",
     "text": [
      "Requirement already satisfied: arabic-reshaper in c:\\users\\abdelaleem\\anaconda3\\lib\\site-packages (3.0.0)\n",
      "Requirement already satisfied: python-bidi in c:\\users\\abdelaleem\\anaconda3\\lib\\site-packages (0.6.0)\n"
     ]
    }
   ],
   "source": [
    "!pip install arabic-reshaper python-bidi"
   ]
  },
  {
   "cell_type": "code",
   "execution_count": 3,
   "metadata": {},
   "outputs": [],
   "source": [
    "import matplotlib.pyplot as plt\n",
    "import numpy as np\n",
    "import pandas as pd\n",
    "import seaborn as sns\n",
    "#these 2 libraries are to deal with reversed arabic string as matplotlib reverse arabic language so these 2 libraries are the solution\n",
    "import arabic_reshaper\n",
    "from bidi.algorithm import get_display"
   ]
  },
  {
   "cell_type": "code",
   "execution_count": 4,
   "metadata": {},
   "outputs": [],
   "source": [
    "df = pd.read_excel(\"D:/natega.xlsx\")"
   ]
  },
  {
   "cell_type": "code",
   "execution_count": 5,
   "metadata": {},
   "outputs": [
    {
     "data": {
      "text/plain": [
       "(734990, 6)"
      ]
     },
     "execution_count": 5,
     "metadata": {},
     "output_type": "execute_result"
    }
   ],
   "source": [
    "df.shape"
   ]
  },
  {
   "cell_type": "code",
   "execution_count": 6,
   "metadata": {},
   "outputs": [
    {
     "data": {
      "text/html": [
       "<div>\n",
       "<style scoped>\n",
       "    .dataframe tbody tr th:only-of-type {\n",
       "        vertical-align: middle;\n",
       "    }\n",
       "\n",
       "    .dataframe tbody tr th {\n",
       "        vertical-align: top;\n",
       "    }\n",
       "\n",
       "    .dataframe thead th {\n",
       "        text-align: right;\n",
       "    }\n",
       "</style>\n",
       "<table border=\"1\" class=\"dataframe\">\n",
       "  <thead>\n",
       "    <tr style=\"text-align: right;\">\n",
       "      <th></th>\n",
       "      <th>رقم الجلوس</th>\n",
       "      <th>الاسم</th>\n",
       "      <th>الدرجة</th>\n",
       "      <th>student_case</th>\n",
       "      <th>student_case_desc</th>\n",
       "      <th>c_flage</th>\n",
       "    </tr>\n",
       "  </thead>\n",
       "  <tbody>\n",
       "    <tr>\n",
       "      <th>0</th>\n",
       "      <td>965187</td>\n",
       "      <td>ٍاسماء فرج حسن احمد</td>\n",
       "      <td>264.0</td>\n",
       "      <td>1</td>\n",
       "      <td>ناجح دور أول</td>\n",
       "      <td>1</td>\n",
       "    </tr>\n",
       "    <tr>\n",
       "      <th>1</th>\n",
       "      <td>469976</td>\n",
       "      <td>ءالاء احمد موسي علي</td>\n",
       "      <td>226.0</td>\n",
       "      <td>1</td>\n",
       "      <td>ناجح دور أول</td>\n",
       "      <td>1</td>\n",
       "    </tr>\n",
       "    <tr>\n",
       "      <th>2</th>\n",
       "      <td>962543</td>\n",
       "      <td>ءالاء محمود حلمي محمود</td>\n",
       "      <td>238.0</td>\n",
       "      <td>1</td>\n",
       "      <td>ناجح دور أول</td>\n",
       "      <td>1</td>\n",
       "    </tr>\n",
       "    <tr>\n",
       "      <th>3</th>\n",
       "      <td>864110</td>\n",
       "      <td>اًمال أحمد محمد سيد</td>\n",
       "      <td>234.0</td>\n",
       "      <td>1</td>\n",
       "      <td>ناجح دور أول</td>\n",
       "      <td>1</td>\n",
       "    </tr>\n",
       "    <tr>\n",
       "      <th>4</th>\n",
       "      <td>579828</td>\n",
       "      <td>اًيتن أشرف محمد عبدالجواد قرنى</td>\n",
       "      <td>277.0</td>\n",
       "      <td>1</td>\n",
       "      <td>ناجح دور أول</td>\n",
       "      <td>1</td>\n",
       "    </tr>\n",
       "  </tbody>\n",
       "</table>\n",
       "</div>"
      ],
      "text/plain": [
       "   رقم الجلوس                           الاسم  الدرجة  student_case  \\\n",
       "0      965187             ٍاسماء فرج حسن احمد   264.0             1   \n",
       "1      469976             ءالاء احمد موسي علي   226.0             1   \n",
       "2      962543          ءالاء محمود حلمي محمود   238.0             1   \n",
       "3      864110             اًمال أحمد محمد سيد   234.0             1   \n",
       "4      579828  اًيتن أشرف محمد عبدالجواد قرنى   277.0             1   \n",
       "\n",
       "  student_case_desc  c_flage  \n",
       "0      ناجح دور أول        1  \n",
       "1      ناجح دور أول        1  \n",
       "2      ناجح دور أول        1  \n",
       "3      ناجح دور أول        1  \n",
       "4      ناجح دور أول        1  "
      ]
     },
     "execution_count": 6,
     "metadata": {},
     "output_type": "execute_result"
    }
   ],
   "source": [
    "df.head()"
   ]
  },
  {
   "cell_type": "code",
   "execution_count": 7,
   "metadata": {},
   "outputs": [
    {
     "data": {
      "text/html": [
       "<div>\n",
       "<style scoped>\n",
       "    .dataframe tbody tr th:only-of-type {\n",
       "        vertical-align: middle;\n",
       "    }\n",
       "\n",
       "    .dataframe tbody tr th {\n",
       "        vertical-align: top;\n",
       "    }\n",
       "\n",
       "    .dataframe thead th {\n",
       "        text-align: right;\n",
       "    }\n",
       "</style>\n",
       "<table border=\"1\" class=\"dataframe\">\n",
       "  <thead>\n",
       "    <tr style=\"text-align: right;\">\n",
       "      <th></th>\n",
       "      <th>رقم الجلوس</th>\n",
       "      <th>الدرجة</th>\n",
       "      <th>student_case</th>\n",
       "      <th>c_flage</th>\n",
       "    </tr>\n",
       "  </thead>\n",
       "  <tbody>\n",
       "    <tr>\n",
       "      <th>count</th>\n",
       "      <td>734990.000000</td>\n",
       "      <td>734990.000000</td>\n",
       "      <td>734990.000000</td>\n",
       "      <td>734990.000000</td>\n",
       "    </tr>\n",
       "    <tr>\n",
       "      <th>mean</th>\n",
       "      <td>551266.457916</td>\n",
       "      <td>275.897541</td>\n",
       "      <td>1.285631</td>\n",
       "      <td>1.010279</td>\n",
       "    </tr>\n",
       "    <tr>\n",
       "      <th>std</th>\n",
       "      <td>259475.211783</td>\n",
       "      <td>65.776737</td>\n",
       "      <td>0.887737</td>\n",
       "      <td>0.121047</td>\n",
       "    </tr>\n",
       "    <tr>\n",
       "      <th>min</th>\n",
       "      <td>100000.000000</td>\n",
       "      <td>0.000000</td>\n",
       "      <td>1.000000</td>\n",
       "      <td>1.000000</td>\n",
       "    </tr>\n",
       "    <tr>\n",
       "      <th>25%</th>\n",
       "      <td>336381.250000</td>\n",
       "      <td>234.500000</td>\n",
       "      <td>1.000000</td>\n",
       "      <td>1.000000</td>\n",
       "    </tr>\n",
       "    <tr>\n",
       "      <th>50%</th>\n",
       "      <td>551476.500000</td>\n",
       "      <td>279.000000</td>\n",
       "      <td>1.000000</td>\n",
       "      <td>1.000000</td>\n",
       "    </tr>\n",
       "    <tr>\n",
       "      <th>75%</th>\n",
       "      <td>772111.750000</td>\n",
       "      <td>323.000000</td>\n",
       "      <td>1.000000</td>\n",
       "      <td>1.000000</td>\n",
       "    </tr>\n",
       "    <tr>\n",
       "      <th>max</th>\n",
       "      <td>990578.000000</td>\n",
       "      <td>671.909973</td>\n",
       "      <td>12.000000</td>\n",
       "      <td>3.000000</td>\n",
       "    </tr>\n",
       "  </tbody>\n",
       "</table>\n",
       "</div>"
      ],
      "text/plain": [
       "          رقم الجلوس         الدرجة   student_case        c_flage\n",
       "count  734990.000000  734990.000000  734990.000000  734990.000000\n",
       "mean   551266.457916     275.897541       1.285631       1.010279\n",
       "std    259475.211783      65.776737       0.887737       0.121047\n",
       "min    100000.000000       0.000000       1.000000       1.000000\n",
       "25%    336381.250000     234.500000       1.000000       1.000000\n",
       "50%    551476.500000     279.000000       1.000000       1.000000\n",
       "75%    772111.750000     323.000000       1.000000       1.000000\n",
       "max    990578.000000     671.909973      12.000000       3.000000"
      ]
     },
     "execution_count": 7,
     "metadata": {},
     "output_type": "execute_result"
    }
   ],
   "source": [
    "df.describe()"
   ]
  },
  {
   "cell_type": "markdown",
   "metadata": {},
   "source": [
    "some notes:\n",
    "-----------------\n",
    "-----------\n",
    "1. the max mark is 410 and there are records with marks above 410 so we need to clean it\n",
    "2. we need percentage to visualize the data more clearly"
   ]
  },
  {
   "cell_type": "code",
   "execution_count": 8,
   "metadata": {},
   "outputs": [],
   "source": [
    "df[\"percentage\"] = df[\"الدرجة\"] *100 / 410"
   ]
  },
  {
   "cell_type": "code",
   "execution_count": 9,
   "metadata": {},
   "outputs": [],
   "source": [
    "df = df[(df[\"percentage\"] < 100) & (df[\"percentage\"] > 0 )]"
   ]
  },
  {
   "cell_type": "code",
   "execution_count": 10,
   "metadata": {},
   "outputs": [
    {
     "data": {
      "text/plain": [
       "(727885, 7)"
      ]
     },
     "execution_count": 10,
     "metadata": {},
     "output_type": "execute_result"
    }
   ],
   "source": [
    "df.shape"
   ]
  },
  {
   "cell_type": "code",
   "execution_count": 74,
   "metadata": {},
   "outputs": [
    {
     "data": {
      "text/html": [
       "<div>\n",
       "<style scoped>\n",
       "    .dataframe tbody tr th:only-of-type {\n",
       "        vertical-align: middle;\n",
       "    }\n",
       "\n",
       "    .dataframe tbody tr th {\n",
       "        vertical-align: top;\n",
       "    }\n",
       "\n",
       "    .dataframe thead th {\n",
       "        text-align: right;\n",
       "    }\n",
       "</style>\n",
       "<table border=\"1\" class=\"dataframe\">\n",
       "  <thead>\n",
       "    <tr style=\"text-align: right;\">\n",
       "      <th></th>\n",
       "      <th>percentage</th>\n",
       "    </tr>\n",
       "  </thead>\n",
       "  <tbody>\n",
       "    <tr>\n",
       "      <th>count</th>\n",
       "      <td>727885.000000</td>\n",
       "    </tr>\n",
       "    <tr>\n",
       "      <th>mean</th>\n",
       "      <td>67.631007</td>\n",
       "    </tr>\n",
       "    <tr>\n",
       "      <th>std</th>\n",
       "      <td>14.594159</td>\n",
       "    </tr>\n",
       "    <tr>\n",
       "      <th>min</th>\n",
       "      <td>0.121951</td>\n",
       "    </tr>\n",
       "    <tr>\n",
       "      <th>25%</th>\n",
       "      <td>57.439024</td>\n",
       "    </tr>\n",
       "    <tr>\n",
       "      <th>50%</th>\n",
       "      <td>68.170732</td>\n",
       "    </tr>\n",
       "    <tr>\n",
       "      <th>75%</th>\n",
       "      <td>78.780488</td>\n",
       "    </tr>\n",
       "    <tr>\n",
       "      <th>max</th>\n",
       "      <td>99.512195</td>\n",
       "    </tr>\n",
       "  </tbody>\n",
       "</table>\n",
       "</div>"
      ],
      "text/plain": [
       "          percentage\n",
       "count  727885.000000\n",
       "mean       67.631007\n",
       "std        14.594159\n",
       "min         0.121951\n",
       "25%        57.439024\n",
       "50%        68.170732\n",
       "75%        78.780488\n",
       "max        99.512195"
      ]
     },
     "execution_count": 74,
     "metadata": {},
     "output_type": "execute_result"
    }
   ],
   "source": [
    "df[[\"percentage\"]].describe()"
   ]
  },
  {
   "cell_type": "markdown",
   "metadata": {},
   "source": [
    "now the mean and median of the marks are around 68% "
   ]
  },
  {
   "cell_type": "code",
   "execution_count": 12,
   "metadata": {},
   "outputs": [
    {
     "data": {
      "text/plain": [
       "<Axes: xlabel='percentage', ylabel='Count'>"
      ]
     },
     "execution_count": 12,
     "metadata": {},
     "output_type": "execute_result"
    },
    {
     "data": {
      "image/png": "[encoded data removed]",
      "text/plain": [
       "<Figure size 640x480 with 1 Axes>"
      ]
     },
     "metadata": {},
     "output_type": "display_data"
    }
   ],
   "source": [
    "sns.histplot(data = df , x = \"percentage\" , kde = True)"
   ]
  },
  {
   "cell_type": "code",
   "execution_count": 13,
   "metadata": {},
   "outputs": [
    {
     "data": {
      "text/plain": [
       "array(['ناجح دور أول', 'راسب دور أول', 'دور ثان', 'غياب كلى دور أول'],\n",
       "      dtype=object)"
      ]
     },
     "execution_count": 13,
     "metadata": {},
     "output_type": "execute_result"
    }
   ],
   "source": [
    "df[\"student_case_desc\"].unique()"
   ]
  },
  {
   "cell_type": "code",
   "execution_count": 14,
   "metadata": {},
   "outputs": [
    {
     "data": {
      "image/png": "[encoded data removed]",
      "text/plain": [
       "<Figure size 640x480 with 1 Axes>"
      ]
     },
     "metadata": {},
     "output_type": "display_data"
    }
   ],
   "source": [
    "# Arabic labels\n",
    "new_labels = ['ناجح دور أول', 'راسب دور أول', 'دور ثان', 'غياب كلى دور أول']\n",
    "\n",
    "# Reshape and bidi-ize the Arabic text\n",
    "reshaped_labels = [get_display(arabic_reshaper.reshape(label)) for label in new_labels]\n",
    "\n",
    "# Creating the countplot\n",
    "ax = sns.countplot(data=df, x=\"student_case_desc\")\n",
    "\n",
    "# Setting the correctly reshaped Arabic labels\n",
    "ax.set_xticklabels(reshaped_labels)\n",
    "plt.show();"
   ]
  },
  {
   "cell_type": "markdown",
   "metadata": {},
   "source": [
    "------\n",
    "the analysis ends here but i want to know the most frequent names in the table for fun"
   ]
  },
  {
   "cell_type": "code",
   "execution_count": 48,
   "metadata": {},
   "outputs": [],
   "source": [
    "df_names = pd.DataFrame(df[\"الاسم\"].str.split().str[0])"
   ]
  },
  {
   "cell_type": "markdown",
   "metadata": {},
   "source": [
    "here's the problem of reversed arabic names"
   ]
  },
  {
   "cell_type": "code",
   "execution_count": 51,
   "metadata": {},
   "outputs": [
    {
     "data": {
      "text/plain": [
       "<Axes: ylabel='الاسم'>"
      ]
     },
     "execution_count": 51,
     "metadata": {},
     "output_type": "execute_result"
    },
    {
     "data": {
      "image/png": "[encoded data removed]",
      "text/plain": [
       "<Figure size 640x480 with 1 Axes>"
      ]
     },
     "metadata": {},
     "output_type": "display_data"
    }
   ],
   "source": [
    "df_names.value_counts().sort_values().tail(10).plot(kind = \"barh\")"
   ]
  },
  {
   "cell_type": "code",
   "execution_count": 66,
   "metadata": {},
   "outputs": [
    {
     "data": {
      "image/png": "[encoded data removed]",
      "text/plain": [
       "<Figure size 640x480 with 1 Axes>"
      ]
     },
     "metadata": {},
     "output_type": "display_data"
    }
   ],
   "source": [
    "top_10 = df_names['الاسم'].value_counts().sort_values(ascending=True).tail(10)\n",
    "reshaped_labels = [get_display(arabic_reshaper.reshape(label)) for label in top_10.index]\n",
    "ax = top_10.plot(kind=\"barh\")\n",
    "ax.set_yticklabels(reshaped_labels)\n",
    "plt.xlabel(\"Count\")\n",
    "plt.ylabel(\"Names\")\n",
    "plt.title(\"The Most Frequent Names In Egypt\")\n",
    "\n",
    "plt.show()"
   ]
  }
 ],
 "metadata": {
  "kernelspec": {
   "display_name": "base",
   "language": "python",
   "name": "python3"
  },
  "language_info": {
   "codemirror_mode": {
    "name": "ipython",
    "version": 3
   },
   "file_extension": ".py",
   "mimetype": "text/x-python",
   "name": "python",
   "nbconvert_exporter": "python",
   "pygments_lexer": "ipython3",
   "version": "3.11.4"
  }
 },
 "nbformat": 4,
 "nbformat_minor": 2
}
